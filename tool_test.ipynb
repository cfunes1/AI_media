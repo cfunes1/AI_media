{
 "cells": [
  {
   "cell_type": "markdown",
   "id": "99092b1a",
   "metadata": {},
   "source": [
    "# video tools\n",
    "## youtube transcript api\n",
    "\n",
    "Library that quickly pulls the existing transcripts in youtube. It's fast to pull the standard automatically generated English transcription, but seems broken to try to find or pull some of the other options e.g. translations in other languages. \n",
    "\n",
    "[youtube-transcript-api in PyPI](https://pypi.org/project/youtube-transcript-api/)\n",
    "\n",
    "[github](https://github.com/jdepoix/youtube-transcript-api)\n"
   ]
  },
  {
   "cell_type": "code",
   "execution_count": 1,
   "id": "c72657e8",
   "metadata": {},
   "outputs": [
    {
     "name": "stderr",
     "output_type": "stream",
     "text": [
      "d:\\Users\\Carlos\\Documents\\Code\\AI_media\\env\\Lib\\site-packages\\ctranslate2\\__init__.py:8: UserWarning: pkg_resources is deprecated as an API. See https://setuptools.pypa.io/en/latest/pkg_resources.html. The pkg_resources package is slated for removal as early as 2025-11-30. Refrain from using this package or pin to Setuptools<81.\n",
      "  import pkg_resources\n",
      "d:\\Users\\Carlos\\Documents\\Code\\AI_media\\env\\Lib\\site-packages\\tqdm\\auto.py:21: TqdmWarning: IProgress not found. Please update jupyter and ipywidgets. See https://ipywidgets.readthedocs.io/en/stable/user_install.html\n",
      "  from .autonotebook import tqdm as notebook_tqdm\n"
     ]
    },
    {
     "name": "stdout",
     "output_type": "stream",
     "text": [
      "pygame 2.5.2 (SDL 2.28.3, Python 3.12.2)\n",
      "Hello from the pygame community. https://www.pygame.org/contribute.html\n"
     ]
    },
    {
     "ename": "VideoUnavailable",
     "evalue": "\nCould not retrieve a transcript for the video https://www.youtube.com/watch?v=13mJmoLoxkk&t=90s! This is most likely caused by:\n\nThe video is no longer available\n\nIf you are sure that the described cause is not responsible for this error and that a transcript should be retrievable, please create an issue at https://github.com/jdepoix/youtube-transcript-api/issues. Please add which version of youtube_transcript_api you are using and provide the information needed to replicate the error. Also make sure that there are no open issues which already describe your problem!",
     "output_type": "error",
     "traceback": [
      "\u001b[1;31m---------------------------------------------------------------------------\u001b[0m",
      "\u001b[1;31mVideoUnavailable\u001b[0m                          Traceback (most recent call last)",
      "Cell \u001b[1;32mIn[1], line 3\u001b[0m\n\u001b[0;32m      1\u001b[0m \u001b[38;5;28;01mfrom\u001b[39;00m \u001b[38;5;21;01mcarlos_tools_AV\u001b[39;00m \u001b[38;5;28;01mimport\u001b[39;00m yt_transcript\n\u001b[0;32m      2\u001b[0m url: \u001b[38;5;28mstr\u001b[39m \u001b[38;5;241m=\u001b[39m \u001b[38;5;28minput\u001b[39m(\u001b[38;5;124m\"\u001b[39m\u001b[38;5;124murl of video to download: \u001b[39m\u001b[38;5;124m\"\u001b[39m)\n\u001b[1;32m----> 3\u001b[0m text, file_path \u001b[38;5;241m=\u001b[39m \u001b[43myt_transcript\u001b[49m\u001b[43m(\u001b[49m\n\u001b[0;32m      4\u001b[0m \u001b[43m    \u001b[49m\u001b[43murl\u001b[49m\u001b[43m,\u001b[49m\n\u001b[0;32m      5\u001b[0m \u001b[43m    \u001b[49m\u001b[43mdirectory\u001b[49m\u001b[38;5;241;43m=\u001b[39;49m\u001b[38;5;124;43m\"\u001b[39;49m\u001b[38;5;124;43mmedia\u001b[39;49m\u001b[38;5;124;43m\"\u001b[39;49m\u001b[43m,\u001b[49m\n\u001b[0;32m      6\u001b[0m \u001b[43m)\u001b[49m\n\u001b[0;32m      7\u001b[0m \u001b[38;5;28mprint\u001b[39m(\u001b[38;5;124mf\u001b[39m\u001b[38;5;124m\"\u001b[39m\u001b[38;5;124mTranscript text:\u001b[39m\u001b[38;5;130;01m\\n\u001b[39;00m\u001b[38;5;132;01m{\u001b[39;00mtext\u001b[38;5;132;01m}\u001b[39;00m\u001b[38;5;124m\"\u001b[39m)\n\u001b[0;32m      8\u001b[0m \u001b[38;5;28mprint\u001b[39m(\u001b[38;5;124mf\u001b[39m\u001b[38;5;124m\"\u001b[39m\u001b[38;5;124mTranscript saved at: \u001b[39m\u001b[38;5;132;01m{\u001b[39;00mfile_path\u001b[38;5;132;01m}\u001b[39;00m\u001b[38;5;124m\"\u001b[39m)\n",
      "File \u001b[1;32md:\\Users\\Carlos\\Documents\\Code\\AI_media\\carlos_tools_AV.py:92\u001b[0m, in \u001b[0;36myt_transcript\u001b[1;34m(url, directory, file_name)\u001b[0m\n\u001b[0;32m     89\u001b[0m \u001b[38;5;66;03m# get the transcript\u001b[39;00m\n\u001b[0;32m     90\u001b[0m \u001b[38;5;66;03m# transcript = YouTubeTranscriptApi.get_transcript(video_id)\u001b[39;00m\n\u001b[0;32m     91\u001b[0m ytt_api \u001b[38;5;241m=\u001b[39m YouTubeTranscriptApi()\n\u001b[1;32m---> 92\u001b[0m fetched_transcript \u001b[38;5;241m=\u001b[39m \u001b[43mytt_api\u001b[49m\u001b[38;5;241;43m.\u001b[39;49m\u001b[43mfetch\u001b[49m\u001b[43m(\u001b[49m\u001b[43mvideo_id\u001b[49m\u001b[43m)\u001b[49m\n\u001b[0;32m     93\u001b[0m \u001b[38;5;28;01mif\u001b[39;00m \u001b[38;5;129;01mnot\u001b[39;00m fetched_transcript:\n\u001b[0;32m     94\u001b[0m     \u001b[38;5;28;01mraise\u001b[39;00m \u001b[38;5;167;01mFileNotFoundError\u001b[39;00m(\u001b[38;5;124m\"\u001b[39m\u001b[38;5;124mTranscript not found for this video.\u001b[39m\u001b[38;5;124m\"\u001b[39m)\n",
      "File \u001b[1;32md:\\Users\\Carlos\\Documents\\Code\\AI_media\\env\\Lib\\site-packages\\youtube_transcript_api\\_api.py:63\u001b[0m, in \u001b[0;36mYouTubeTranscriptApi.fetch\u001b[1;34m(self, video_id, languages, preserve_formatting)\u001b[0m\n\u001b[0;32m     43\u001b[0m \u001b[38;5;28;01mdef\u001b[39;00m \u001b[38;5;21mfetch\u001b[39m(\n\u001b[0;32m     44\u001b[0m     \u001b[38;5;28mself\u001b[39m,\n\u001b[0;32m     45\u001b[0m     video_id: \u001b[38;5;28mstr\u001b[39m,\n\u001b[0;32m     46\u001b[0m     languages: Iterable[\u001b[38;5;28mstr\u001b[39m] \u001b[38;5;241m=\u001b[39m (\u001b[38;5;124m\"\u001b[39m\u001b[38;5;124men\u001b[39m\u001b[38;5;124m\"\u001b[39m,),\n\u001b[0;32m     47\u001b[0m     preserve_formatting: \u001b[38;5;28mbool\u001b[39m \u001b[38;5;241m=\u001b[39m \u001b[38;5;28;01mFalse\u001b[39;00m,\n\u001b[0;32m     48\u001b[0m ) \u001b[38;5;241m-\u001b[39m\u001b[38;5;241m>\u001b[39m FetchedTranscript:\n\u001b[0;32m     49\u001b[0m \u001b[38;5;250m    \u001b[39m\u001b[38;5;124;03m\"\"\"\u001b[39;00m\n\u001b[0;32m     50\u001b[0m \u001b[38;5;124;03m    Retrieves the transcript for a single video. This is just a shortcut for\u001b[39;00m\n\u001b[0;32m     51\u001b[0m \u001b[38;5;124;03m    calling:\u001b[39;00m\n\u001b[1;32m   (...)\u001b[0m\n\u001b[0;32m     60\u001b[0m \u001b[38;5;124;03m    :param preserve_formatting: whether to keep select HTML text formatting\u001b[39;00m\n\u001b[0;32m     61\u001b[0m \u001b[38;5;124;03m    \"\"\"\u001b[39;00m\n\u001b[0;32m     62\u001b[0m     \u001b[38;5;28;01mreturn\u001b[39;00m (\n\u001b[1;32m---> 63\u001b[0m         \u001b[38;5;28;43mself\u001b[39;49m\u001b[38;5;241;43m.\u001b[39;49m\u001b[43mlist\u001b[49m\u001b[43m(\u001b[49m\u001b[43mvideo_id\u001b[49m\u001b[43m)\u001b[49m\n\u001b[0;32m     64\u001b[0m         \u001b[38;5;241m.\u001b[39mfind_transcript(languages)\n\u001b[0;32m     65\u001b[0m         \u001b[38;5;241m.\u001b[39mfetch(preserve_formatting\u001b[38;5;241m=\u001b[39mpreserve_formatting)\n\u001b[0;32m     66\u001b[0m     )\n",
      "File \u001b[1;32md:\\Users\\Carlos\\Documents\\Code\\AI_media\\env\\Lib\\site-packages\\youtube_transcript_api\\_api.py:119\u001b[0m, in \u001b[0;36mYouTubeTranscriptApi.list\u001b[1;34m(self, video_id)\u001b[0m\n\u001b[0;32m     68\u001b[0m \u001b[38;5;28;01mdef\u001b[39;00m \u001b[38;5;21mlist\u001b[39m(\n\u001b[0;32m     69\u001b[0m     \u001b[38;5;28mself\u001b[39m,\n\u001b[0;32m     70\u001b[0m     video_id: \u001b[38;5;28mstr\u001b[39m,\n\u001b[0;32m     71\u001b[0m ) \u001b[38;5;241m-\u001b[39m\u001b[38;5;241m>\u001b[39m TranscriptList:\n\u001b[0;32m     72\u001b[0m \u001b[38;5;250m    \u001b[39m\u001b[38;5;124;03m\"\"\"\u001b[39;00m\n\u001b[0;32m     73\u001b[0m \u001b[38;5;124;03m    Retrieves the list of transcripts which are available for a given video. It\u001b[39;00m\n\u001b[0;32m     74\u001b[0m \u001b[38;5;124;03m    returns a `TranscriptList` object which is iterable and provides methods to\u001b[39;00m\n\u001b[1;32m   (...)\u001b[0m\n\u001b[0;32m    117\u001b[0m \u001b[38;5;124;03m        Make sure that this is the actual ID, NOT the full URL to the video!\u001b[39;00m\n\u001b[0;32m    118\u001b[0m \u001b[38;5;124;03m    \"\"\"\u001b[39;00m\n\u001b[1;32m--> 119\u001b[0m     \u001b[38;5;28;01mreturn\u001b[39;00m \u001b[38;5;28;43mself\u001b[39;49m\u001b[38;5;241;43m.\u001b[39;49m\u001b[43m_fetcher\u001b[49m\u001b[38;5;241;43m.\u001b[39;49m\u001b[43mfetch\u001b[49m\u001b[43m(\u001b[49m\u001b[43mvideo_id\u001b[49m\u001b[43m)\u001b[49m\n",
      "File \u001b[1;32md:\\Users\\Carlos\\Documents\\Code\\AI_media\\env\\Lib\\site-packages\\youtube_transcript_api\\_transcripts.py:354\u001b[0m, in \u001b[0;36mTranscriptListFetcher.fetch\u001b[1;34m(self, video_id)\u001b[0m\n\u001b[0;32m    350\u001b[0m \u001b[38;5;28;01mdef\u001b[39;00m \u001b[38;5;21mfetch\u001b[39m(\u001b[38;5;28mself\u001b[39m, video_id: \u001b[38;5;28mstr\u001b[39m) \u001b[38;5;241m-\u001b[39m\u001b[38;5;241m>\u001b[39m TranscriptList:\n\u001b[0;32m    351\u001b[0m     \u001b[38;5;28;01mreturn\u001b[39;00m TranscriptList\u001b[38;5;241m.\u001b[39mbuild(\n\u001b[0;32m    352\u001b[0m         \u001b[38;5;28mself\u001b[39m\u001b[38;5;241m.\u001b[39m_http_client,\n\u001b[0;32m    353\u001b[0m         video_id,\n\u001b[1;32m--> 354\u001b[0m         \u001b[38;5;28;43mself\u001b[39;49m\u001b[38;5;241;43m.\u001b[39;49m\u001b[43m_fetch_captions_json\u001b[49m\u001b[43m(\u001b[49m\u001b[43mvideo_id\u001b[49m\u001b[43m)\u001b[49m,\n\u001b[0;32m    355\u001b[0m     )\n",
      "File \u001b[1;32md:\\Users\\Carlos\\Documents\\Code\\AI_media\\env\\Lib\\site-packages\\youtube_transcript_api\\_transcripts.py:362\u001b[0m, in \u001b[0;36mTranscriptListFetcher._fetch_captions_json\u001b[1;34m(self, video_id, try_number)\u001b[0m\n\u001b[0;32m    360\u001b[0m     api_key \u001b[38;5;241m=\u001b[39m \u001b[38;5;28mself\u001b[39m\u001b[38;5;241m.\u001b[39m_extract_innertube_api_key(html, video_id)\n\u001b[0;32m    361\u001b[0m     innertube_data \u001b[38;5;241m=\u001b[39m \u001b[38;5;28mself\u001b[39m\u001b[38;5;241m.\u001b[39m_fetch_innertube_data(video_id, api_key)\n\u001b[1;32m--> 362\u001b[0m     \u001b[38;5;28;01mreturn\u001b[39;00m \u001b[38;5;28;43mself\u001b[39;49m\u001b[38;5;241;43m.\u001b[39;49m\u001b[43m_extract_captions_json\u001b[49m\u001b[43m(\u001b[49m\u001b[43minnertube_data\u001b[49m\u001b[43m,\u001b[49m\u001b[43m \u001b[49m\u001b[43mvideo_id\u001b[49m\u001b[43m)\u001b[49m\n\u001b[0;32m    363\u001b[0m \u001b[38;5;28;01mexcept\u001b[39;00m RequestBlocked \u001b[38;5;28;01mas\u001b[39;00m exception:\n\u001b[0;32m    364\u001b[0m     retries \u001b[38;5;241m=\u001b[39m (\n\u001b[0;32m    365\u001b[0m         \u001b[38;5;241m0\u001b[39m\n\u001b[0;32m    366\u001b[0m         \u001b[38;5;28;01mif\u001b[39;00m \u001b[38;5;28mself\u001b[39m\u001b[38;5;241m.\u001b[39m_proxy_config \u001b[38;5;129;01mis\u001b[39;00m \u001b[38;5;28;01mNone\u001b[39;00m\n\u001b[0;32m    367\u001b[0m         \u001b[38;5;28;01melse\u001b[39;00m \u001b[38;5;28mself\u001b[39m\u001b[38;5;241m.\u001b[39m_proxy_config\u001b[38;5;241m.\u001b[39mretries_when_blocked\n\u001b[0;32m    368\u001b[0m     )\n",
      "File \u001b[1;32md:\\Users\\Carlos\\Documents\\Code\\AI_media\\env\\Lib\\site-packages\\youtube_transcript_api\\_transcripts.py:383\u001b[0m, in \u001b[0;36mTranscriptListFetcher._extract_captions_json\u001b[1;34m(self, innertube_data, video_id)\u001b[0m\n\u001b[0;32m    382\u001b[0m \u001b[38;5;28;01mdef\u001b[39;00m \u001b[38;5;21m_extract_captions_json\u001b[39m(\u001b[38;5;28mself\u001b[39m, innertube_data: Dict, video_id: \u001b[38;5;28mstr\u001b[39m) \u001b[38;5;241m-\u001b[39m\u001b[38;5;241m>\u001b[39m Dict:\n\u001b[1;32m--> 383\u001b[0m     \u001b[38;5;28;43mself\u001b[39;49m\u001b[38;5;241;43m.\u001b[39;49m\u001b[43m_assert_playability\u001b[49m\u001b[43m(\u001b[49m\u001b[43minnertube_data\u001b[49m\u001b[38;5;241;43m.\u001b[39;49m\u001b[43mget\u001b[49m\u001b[43m(\u001b[49m\u001b[38;5;124;43m\"\u001b[39;49m\u001b[38;5;124;43mplayabilityStatus\u001b[39;49m\u001b[38;5;124;43m\"\u001b[39;49m\u001b[43m)\u001b[49m\u001b[43m,\u001b[49m\u001b[43m \u001b[49m\u001b[43mvideo_id\u001b[49m\u001b[43m)\u001b[49m\n\u001b[0;32m    385\u001b[0m     captions_json \u001b[38;5;241m=\u001b[39m innertube_data\u001b[38;5;241m.\u001b[39mget(\u001b[38;5;124m\"\u001b[39m\u001b[38;5;124mcaptions\u001b[39m\u001b[38;5;124m\"\u001b[39m, {})\u001b[38;5;241m.\u001b[39mget(\n\u001b[0;32m    386\u001b[0m         \u001b[38;5;124m\"\u001b[39m\u001b[38;5;124mplayerCaptionsTracklistRenderer\u001b[39m\u001b[38;5;124m\"\u001b[39m\n\u001b[0;32m    387\u001b[0m     )\n\u001b[0;32m    388\u001b[0m     \u001b[38;5;28;01mif\u001b[39;00m captions_json \u001b[38;5;129;01mis\u001b[39;00m \u001b[38;5;28;01mNone\u001b[39;00m \u001b[38;5;129;01mor\u001b[39;00m \u001b[38;5;124m\"\u001b[39m\u001b[38;5;124mcaptionTracks\u001b[39m\u001b[38;5;124m\"\u001b[39m \u001b[38;5;129;01mnot\u001b[39;00m \u001b[38;5;129;01min\u001b[39;00m captions_json:\n",
      "File \u001b[1;32md:\\Users\\Carlos\\Documents\\Code\\AI_media\\env\\Lib\\site-packages\\youtube_transcript_api\\_transcripts.py:411\u001b[0m, in \u001b[0;36mTranscriptListFetcher._assert_playability\u001b[1;34m(self, playability_status_data, video_id)\u001b[0m\n\u001b[0;32m    409\u001b[0m     \u001b[38;5;28;01mif\u001b[39;00m video_id\u001b[38;5;241m.\u001b[39mstartswith(\u001b[38;5;124m\"\u001b[39m\u001b[38;5;124mhttp://\u001b[39m\u001b[38;5;124m\"\u001b[39m) \u001b[38;5;129;01mor\u001b[39;00m video_id\u001b[38;5;241m.\u001b[39mstartswith(\u001b[38;5;124m\"\u001b[39m\u001b[38;5;124mhttps://\u001b[39m\u001b[38;5;124m\"\u001b[39m):\n\u001b[0;32m    410\u001b[0m         \u001b[38;5;28;01mraise\u001b[39;00m InvalidVideoId(video_id)\n\u001b[1;32m--> 411\u001b[0m     \u001b[38;5;28;01mraise\u001b[39;00m VideoUnavailable(video_id)\n\u001b[0;32m    412\u001b[0m subreasons \u001b[38;5;241m=\u001b[39m (\n\u001b[0;32m    413\u001b[0m     playability_status_data\u001b[38;5;241m.\u001b[39mget(\u001b[38;5;124m\"\u001b[39m\u001b[38;5;124merrorScreen\u001b[39m\u001b[38;5;124m\"\u001b[39m, {})\n\u001b[0;32m    414\u001b[0m     \u001b[38;5;241m.\u001b[39mget(\u001b[38;5;124m\"\u001b[39m\u001b[38;5;124mplayerErrorMessageRenderer\u001b[39m\u001b[38;5;124m\"\u001b[39m, {})\n\u001b[0;32m    415\u001b[0m     \u001b[38;5;241m.\u001b[39mget(\u001b[38;5;124m\"\u001b[39m\u001b[38;5;124msubreason\u001b[39m\u001b[38;5;124m\"\u001b[39m, {})\n\u001b[0;32m    416\u001b[0m     \u001b[38;5;241m.\u001b[39mget(\u001b[38;5;124m\"\u001b[39m\u001b[38;5;124mruns\u001b[39m\u001b[38;5;124m\"\u001b[39m, [])\n\u001b[0;32m    417\u001b[0m )\n\u001b[0;32m    418\u001b[0m \u001b[38;5;28;01mraise\u001b[39;00m VideoUnplayable(\n\u001b[0;32m    419\u001b[0m     video_id, reason, [run\u001b[38;5;241m.\u001b[39mget(\u001b[38;5;124m\"\u001b[39m\u001b[38;5;124mtext\u001b[39m\u001b[38;5;124m\"\u001b[39m, \u001b[38;5;124m\"\u001b[39m\u001b[38;5;124m\"\u001b[39m) \u001b[38;5;28;01mfor\u001b[39;00m run \u001b[38;5;129;01min\u001b[39;00m subreasons]\n\u001b[0;32m    420\u001b[0m )\n",
      "\u001b[1;31mVideoUnavailable\u001b[0m: \nCould not retrieve a transcript for the video https://www.youtube.com/watch?v=13mJmoLoxkk&t=90s! This is most likely caused by:\n\nThe video is no longer available\n\nIf you are sure that the described cause is not responsible for this error and that a transcript should be retrievable, please create an issue at https://github.com/jdepoix/youtube-transcript-api/issues. Please add which version of youtube_transcript_api you are using and provide the information needed to replicate the error. Also make sure that there are no open issues which already describe your problem!"
     ]
    }
   ],
   "source": [
    "from carlos_tools_AV import yt_transcript\n",
    "url: str = input(\"url of video to download: \")\n",
    "text, file_path = yt_transcript(\n",
    "    url,\n",
    "    directory=\"media\",\n",
    ")\n",
    "print(f\"Transcript text:\\n{text}\")\n",
    "print(f\"Transcript saved at: {file_path}\")"
   ]
  },
  {
   "cell_type": "markdown",
   "id": "b201e19b",
   "metadata": {},
   "source": [
    "## yt_dlp library\n",
    "\n",
    "Library updated often. May need to update to latest version for it to work\n",
    "\n",
    "## Download_video\n",
    "\n",
    "Downloads best video and audio streams and merges them together. "
   ]
  },
  {
   "cell_type": "code",
   "execution_count": 3,
   "id": "1631c762",
   "metadata": {},
   "outputs": [
    {
     "name": "stdout",
     "output_type": "stream",
     "text": [
      "file_path='media\\\\%(title)s.%(ext)s'\n",
      "[youtube] Extracting URL: https://www.youtube.com/watch?v=uSDm1CEFEE0\n",
      "[youtube] uSDm1CEFEE0: Downloading webpage\n",
      "[youtube] uSDm1CEFEE0: Downloading tv client config\n",
      "[youtube] uSDm1CEFEE0: Downloading tv player API JSON\n",
      "[youtube] uSDm1CEFEE0: Downloading ios player API JSON\n",
      "[youtube] uSDm1CEFEE0: Downloading m3u8 information\n",
      "[info] uSDm1CEFEE0: Downloading 1 format(s): 401+251-4\n",
      "[download] Destination: media\\I soaked a Brisket in WINE for months and ate it!.f401.mp4\n",
      "[download] 100% of  584.20MiB in 00:00:24 at 23.48MiB/s    \n",
      "[download] Destination: media\\I soaked a Brisket in WINE for months and ate it!.f251-4.webm\n",
      "[download] 100% of   10.77MiB in 00:00:00 at 23.42MiB/s    \n",
      "[Merger] Merging formats into \"media\\I soaked a Brisket in WINE for months and ate it!.webm\"\n",
      "Deleting original file media\\I soaked a Brisket in WINE for months and ate it!.f251-4.webm (pass -k to keep)\n",
      "Deleting original file media\\I soaked a Brisket in WINE for months and ate it!.f401.mp4 (pass -k to keep)\n",
      "Video downloaded at: media\\I soaked a Brisket in WINE for months and ate it!.webm\n"
     ]
    }
   ],
   "source": [
    "from carlos_tools_AV import download_video\n",
    "url: str = input(\"url of video to download: \")\n",
    "video_path = download_video(\n",
    "    url,\n",
    "    directory=\"media\",\n",
    "    file_name=None # uses default naming convention\n",
    ")"
   ]
  },
  {
   "cell_type": "markdown",
   "id": "55eac26d",
   "metadata": {},
   "source": [
    "## Download_audio\n",
    "\n",
    "Downloads best audio but then downsamples to 32k mp3"
   ]
  },
  {
   "cell_type": "code",
   "execution_count": 4,
   "id": "a6801111",
   "metadata": {},
   "outputs": [
    {
     "name": "stdout",
     "output_type": "stream",
     "text": [
      "file_path='media\\\\%(title)s.%(ext)s'\n",
      "[youtube] Extracting URL: https://www.youtube.com/shorts/N41uAK6OjYQ\n",
      "[youtube] N41uAK6OjYQ: Downloading webpage\n",
      "[youtube] N41uAK6OjYQ: Downloading tv client config\n",
      "[youtube] N41uAK6OjYQ: Downloading tv player API JSON\n",
      "[youtube] N41uAK6OjYQ: Downloading ios player API JSON\n",
      "[youtube] N41uAK6OjYQ: Downloading m3u8 information\n",
      "[info] N41uAK6OjYQ: Downloading 1 format(s): 251\n",
      "[download] media\\Denzel Washington’s powerful courtroom argument #philadelphia #denzelwashington.webm has already been downloaded\n",
      "[download] 100% of  713.88KiB\n",
      "[ExtractAudio] Destination: media\\Denzel Washington’s powerful courtroom argument #philadelphia #denzelwashington.mp3\n",
      "Original audio of video downloaded at media\\Denzel Washington’s powerful courtroom argument #philadelphia #denzelwashington.webm\n",
      "Audio of video downloaded as 32k bitrate mp3 at media\\Denzel Washington’s powerful courtroom argument #philadelphia #denzelwashington.mp3\n"
     ]
    }
   ],
   "source": [
    "from carlos_tools_AV import download_audio\n",
    "url: str = input(\"url of video to download: \")\n",
    "audio_path = download_audio(\n",
    "    url,\n",
    "    directory=\"media\",\n",
    "    file_name=None, # uses default naming convention,\n",
    "    keepvideo=True,  # set to True if you want to keep the video stream\n",
    ")"
   ]
  },
  {
   "cell_type": "markdown",
   "id": "549853a4",
   "metadata": {},
   "source": [
    "## Trim_media_to_duration\n",
    "\n",
    "Uses Pydub library to cut file to the desired maximum length in seconds\n",
    "\n",
    "[Pydub in Pypi](https://pypi.org/project/pydub/)\n",
    "\n",
    "[Github](https://github.com/jiaaro/pydub)\n"
   ]
  },
  {
   "cell_type": "code",
   "execution_count": 5,
   "id": "292dff23",
   "metadata": {},
   "outputs": [
    {
     "name": "stdout",
     "output_type": "stream",
     "text": [
      "file_path='media\\\\%(title)s.%(ext)s'\n",
      "[youtube] Extracting URL: https://www.youtube.com/shorts/N41uAK6OjYQ\n",
      "[youtube] N41uAK6OjYQ: Downloading webpage\n",
      "[youtube] N41uAK6OjYQ: Downloading tv client config\n",
      "[youtube] N41uAK6OjYQ: Downloading tv player API JSON\n",
      "[youtube] N41uAK6OjYQ: Downloading ios player API JSON\n",
      "[youtube] N41uAK6OjYQ: Downloading m3u8 information\n",
      "[info] N41uAK6OjYQ: Downloading 1 format(s): 251\n",
      "[download] media\\Denzel Washington’s powerful courtroom argument #philadelphia #denzelwashington.webm has already been downloaded\n",
      "[download] 100% of  713.88KiB\n",
      "[ExtractAudio] Destination: media\\Denzel Washington’s powerful courtroom argument #philadelphia #denzelwashington.mp3\n",
      "Original audio of video downloaded at media\\Denzel Washington’s powerful courtroom argument #philadelphia #denzelwashington.webm\n",
      "Audio of video downloaded as 32k bitrate mp3 at media\\Denzel Washington’s powerful courtroom argument #philadelphia #denzelwashington.mp3\n",
      "Original recording of 50 secs is too long. Cutting it to the first 10 secs...\n",
      "Media saved at: media\\Denzel Washington’s powerful courtroom argument #philadelphia #denzelwashington_trimmed.mp3\n",
      "Media was trimmed to the specified duration.\n"
     ]
    }
   ],
   "source": [
    "from carlos_tools_AV import download_audio, trim_media_to_duration\n",
    "\n",
    "url: str = input(\"url of video to download: \")\n",
    "_, audio_path = download_audio(\n",
    "    url,\n",
    "    directory=\"media\",\n",
    "    file_name=None, # uses default naming convention,\n",
    "    keepvideo=True,  # set to True if you want to keep the video stream\n",
    ")\n",
    "trimmed_path, is_trimmed = trim_media_to_duration(\n",
    "    file_path=audio_path,  \n",
    "    max_duration_secs=10,\n",
    ")\n",
    "print(f\"Media saved at: {trimmed_path}\")\n",
    "if is_trimmed:\n",
    "    print(\"Media was trimmed to the specified duration.\")"
   ]
  }
 ],
 "metadata": {
  "kernelspec": {
   "display_name": "env",
   "language": "python",
   "name": "python3"
  },
  "language_info": {
   "codemirror_mode": {
    "name": "ipython",
    "version": 3
   },
   "file_extension": ".py",
   "mimetype": "text/x-python",
   "name": "python",
   "nbconvert_exporter": "python",
   "pygments_lexer": "ipython3",
   "version": "3.12.2"
  }
 },
 "nbformat": 4,
 "nbformat_minor": 5
}
